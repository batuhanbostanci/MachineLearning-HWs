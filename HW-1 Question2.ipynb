{
 "cells": [
  {
   "cell_type": "code",
   "execution_count": 1,
   "metadata": {},
   "outputs": [],
   "source": [
    "import os\n",
    "import tarfile\n",
    "from six.moves import urllib\n",
    "import pandas as pd\n",
    "import numpy as np\n",
    "\n",
    "DOWNLOAD_ROOT = \"https://raw.githubusercontent.com/ageron/handson-ml2/master/\"\n",
    "HOUSING_PATH = os.path.join(\"datasets\", \"housing\")\n",
    "HOUSING_URL = DOWNLOAD_ROOT + \"datasets/housing/housing.tgz\"\n",
    "\n",
    "def fetch_housing_data(housing_url=HOUSING_URL, housing_path=HOUSING_PATH): \n",
    "\n",
    "  if not os.path.isdir(housing_path):\n",
    "    os.makedirs(housing_path)\n",
    "  tgz_path = os.path.join(housing_path, \"housing.tgz\")\n",
    "  urllib.request.urlretrieve(housing_url, tgz_path) #datasets/housing/housing.tgz\n",
    "  housing_tgz = tarfile.open(tgz_path)\n",
    "  housing_tgz.extractall(path=housing_path)\n",
    "  housing_tgz.close()\n",
    "\n",
    "def load_housing_data(housing_path=HOUSING_PATH):\n",
    "  csv_path = os.path.join(housing_path, \"housing.csv\") #csv_path=\"datasets/housing/housing.csv\"\n",
    "  return pd.read_csv(csv_path)\n",
    "fetch_housing_data()\n",
    "housing = load_housing_data()"
   ]
  },
  {
   "cell_type": "code",
   "execution_count": 2,
   "metadata": {},
   "outputs": [
    {
     "name": "stderr",
     "output_type": "stream",
     "text": [
      "C:\\Users\\BATU\\anaconda3\\lib\\site-packages\\pandas\\core\\frame.py:4163: SettingWithCopyWarning: \n",
      "A value is trying to be set on a copy of a slice from a DataFrame\n",
      "\n",
      "See the caveats in the documentation: https://pandas.pydata.org/pandas-docs/stable/user_guide/indexing.html#returning-a-view-versus-a-copy\n",
      "  return super().drop(\n"
     ]
    },
    {
     "data": {
      "image/png": "[encoded data removed]",
      "text/plain": [
       "<Figure size 432x288 with 1 Axes>"
      ]
     },
     "metadata": {
      "needs_background": "light"
     },
     "output_type": "display_data"
    }
   ],
   "source": [
    "def split_train_test(data, test_ratio):\n",
    "  np.random.seed(0)\n",
    "  shuffled_indices = np.random.permutation(len(data))\n",
    "  test_set_size = int(len(data) * test_ratio)\n",
    "  test_indices = shuffled_indices[:test_set_size]\n",
    "  train_indices = shuffled_indices[test_set_size:]\n",
    "  return data.iloc[train_indices], data.iloc[test_indices]\n",
    "\n",
    "\n",
    "housing[\"income\"] = pd.cut(housing[\"median_income\"],\n",
    "                                   bins=[0., 1.5, 3.0, 4.5, 6., np.inf],\n",
    "                                   labels=[1, 2, 3, 4, 5])\n",
    "housing[\"income\"].hist() #Series object\n",
    "\n",
    "from sklearn.model_selection import StratifiedShuffleSplit\n",
    "split = StratifiedShuffleSplit(n_splits=1, test_size=0.2, random_state=42)\n",
    "\n",
    "for train_index, test_index in split.split(housing, housing[\"income\"]):\n",
    "  strat_train_set = housing.iloc[train_index]\n",
    "  strat_test_set = housing.iloc[test_index]\n",
    "    \n",
    "for set_ in (strat_train_set, strat_test_set): #removing income attribute from train and test data frames\n",
    "  set_.drop(\"income\", axis=1, inplace=True)\n",
    "\n",
    "#strat_train_set.head()\n",
    "#strat_test_set.info()"
   ]
  },
  {
   "cell_type": "code",
   "execution_count": 3,
   "metadata": {},
   "outputs": [
    {
     "name": "stderr",
     "output_type": "stream",
     "text": [
      "<ipython-input-3-5cb889103522>:2: SettingWithCopyWarning: \n",
      "A value is trying to be set on a copy of a slice from a DataFrame.\n",
      "Try using .loc[row_indexer,col_indexer] = value instead\n",
      "\n",
      "See the caveats in the documentation: https://pandas.pydata.org/pandas-docs/stable/user_guide/indexing.html#returning-a-view-versus-a-copy\n",
      "  strat_train_set[\"rooms_per_household\"] = housing[\"total_rooms\"]/housing[\"households\"]\n",
      "<ipython-input-3-5cb889103522>:3: SettingWithCopyWarning: \n",
      "A value is trying to be set on a copy of a slice from a DataFrame.\n",
      "Try using .loc[row_indexer,col_indexer] = value instead\n",
      "\n",
      "See the caveats in the documentation: https://pandas.pydata.org/pandas-docs/stable/user_guide/indexing.html#returning-a-view-versus-a-copy\n",
      "  strat_train_set[\"bedrooms_per_room\"] = housing[\"total_bedrooms\"]/housing[\"total_rooms\"]\n",
      "<ipython-input-3-5cb889103522>:4: SettingWithCopyWarning: \n",
      "A value is trying to be set on a copy of a slice from a DataFrame.\n",
      "Try using .loc[row_indexer,col_indexer] = value instead\n",
      "\n",
      "See the caveats in the documentation: https://pandas.pydata.org/pandas-docs/stable/user_guide/indexing.html#returning-a-view-versus-a-copy\n",
      "  strat_train_set[\"population_per_household\"]=housing[\"population\"]/housing[\"households\"]\n",
      "<ipython-input-3-5cb889103522>:5: SettingWithCopyWarning: \n",
      "A value is trying to be set on a copy of a slice from a DataFrame.\n",
      "Try using .loc[row_indexer,col_indexer] = value instead\n",
      "\n",
      "See the caveats in the documentation: https://pandas.pydata.org/pandas-docs/stable/user_guide/indexing.html#returning-a-view-versus-a-copy\n",
      "  strat_test_set[\"rooms_per_household\"] = housing[\"total_rooms\"]/housing[\"households\"]\n",
      "<ipython-input-3-5cb889103522>:6: SettingWithCopyWarning: \n",
      "A value is trying to be set on a copy of a slice from a DataFrame.\n",
      "Try using .loc[row_indexer,col_indexer] = value instead\n",
      "\n",
      "See the caveats in the documentation: https://pandas.pydata.org/pandas-docs/stable/user_guide/indexing.html#returning-a-view-versus-a-copy\n",
      "  strat_test_set[\"bedrooms_per_room\"] = housing[\"total_bedrooms\"]/housing[\"total_rooms\"]\n",
      "<ipython-input-3-5cb889103522>:7: SettingWithCopyWarning: \n",
      "A value is trying to be set on a copy of a slice from a DataFrame.\n",
      "Try using .loc[row_indexer,col_indexer] = value instead\n",
      "\n",
      "See the caveats in the documentation: https://pandas.pydata.org/pandas-docs/stable/user_guide/indexing.html#returning-a-view-versus-a-copy\n",
      "  strat_test_set[\"population_per_household\"]=housing[\"population\"]/housing[\"households\"]\n"
     ]
    }
   ],
   "source": [
    "def adding_new_features_into_sets(): #implement method for adding new features into train and test sets\n",
    " strat_train_set[\"rooms_per_household\"] = housing[\"total_rooms\"]/housing[\"households\"]\n",
    " strat_train_set[\"bedrooms_per_room\"] = housing[\"total_bedrooms\"]/housing[\"total_rooms\"]\n",
    " strat_train_set[\"population_per_household\"]=housing[\"population\"]/housing[\"households\"]\n",
    " strat_test_set[\"rooms_per_household\"] = housing[\"total_rooms\"]/housing[\"households\"]\n",
    " strat_test_set[\"bedrooms_per_room\"] = housing[\"total_bedrooms\"]/housing[\"total_rooms\"]\n",
    " strat_test_set[\"population_per_household\"]=housing[\"population\"]/housing[\"households\"]\n",
    " return strat_train_set, strat_test_set\n",
    "\n",
    "train_set, test_set = adding_new_features_into_sets() # implementation part\n",
    "#train_set.head()  #to see exapmles with head method \n",
    "#test_set.head()   #to see exapmles with head method "
   ]
  },
  {
   "cell_type": "code",
   "execution_count": 4,
   "metadata": {},
   "outputs": [
    {
     "name": "stdout",
     "output_type": "stream",
     "text": [
      "<class 'pandas.core.frame.DataFrame'>\n",
      "Int64Index: 16512 entries, 17606 to 15775\n",
      "Data columns (total 13 columns):\n",
      " #   Column                    Non-Null Count  Dtype  \n",
      "---  ------                    --------------  -----  \n",
      " 0   longitude                 16512 non-null  float64\n",
      " 1   latitude                  16512 non-null  float64\n",
      " 2   housing_median_age        16512 non-null  float64\n",
      " 3   total_rooms               16512 non-null  float64\n",
      " 4   total_bedrooms            16354 non-null  float64\n",
      " 5   population                16512 non-null  float64\n",
      " 6   households                16512 non-null  float64\n",
      " 7   median_income             16512 non-null  float64\n",
      " 8   median_house_value        16512 non-null  float64\n",
      " 9   ocean_proximity           16512 non-null  object \n",
      " 10  rooms_per_household       16512 non-null  float64\n",
      " 11  bedrooms_per_room         16354 non-null  float64\n",
      " 12  population_per_household  16512 non-null  float64\n",
      "dtypes: float64(12), object(1)\n",
      "memory usage: 1.8+ MB\n"
     ]
    }
   ],
   "source": [
    "train_set.info()"
   ]
  },
  {
   "cell_type": "code",
   "execution_count": 5,
   "metadata": {},
   "outputs": [],
   "source": [
    "def seperate_targets(train_set,test_set):\n",
    " housing = train_set.drop(\"median_house_value\", axis=1)\n",
    " housing_labels = train_set[\"median_house_value\"].copy()\n",
    " housing_test = test_set.drop(\"median_house_value\", axis=1)\n",
    " housing_labels_test = test_set[\"median_house_value\"].copy()\n",
    " return housing,housing_labels,housing_test,housing_labels_test"
   ]
  },
  {
   "cell_type": "code",
   "execution_count": 6,
   "metadata": {},
   "outputs": [],
   "source": [
    "housing, housing_labels, housing_test,housing_labels_test=seperate_targets(train_set,test_set)"
   ]
  },
  {
   "cell_type": "code",
   "execution_count": 7,
   "metadata": {},
   "outputs": [
    {
     "name": "stdout",
     "output_type": "stream",
     "text": [
      "<class 'pandas.core.frame.DataFrame'>\n",
      "Int64Index: 4128 entries, 5241 to 2398\n",
      "Data columns (total 12 columns):\n",
      " #   Column                    Non-Null Count  Dtype  \n",
      "---  ------                    --------------  -----  \n",
      " 0   longitude                 4128 non-null   float64\n",
      " 1   latitude                  4128 non-null   float64\n",
      " 2   housing_median_age        4128 non-null   float64\n",
      " 3   total_rooms               4128 non-null   float64\n",
      " 4   total_bedrooms            4079 non-null   float64\n",
      " 5   population                4128 non-null   float64\n",
      " 6   households                4128 non-null   float64\n",
      " 7   median_income             4128 non-null   float64\n",
      " 8   ocean_proximity           4128 non-null   object \n",
      " 9   rooms_per_household       4128 non-null   float64\n",
      " 10  bedrooms_per_room         4079 non-null   float64\n",
      " 11  population_per_household  4128 non-null   float64\n",
      "dtypes: float64(11), object(1)\n",
      "memory usage: 419.2+ KB\n"
     ]
    }
   ],
   "source": [
    "housing_test.info()"
   ]
  },
  {
   "cell_type": "code",
   "execution_count": 8,
   "metadata": {},
   "outputs": [
    {
     "data": {
      "text/html": [
       "<div>\n",
       "<style scoped>\n",
       "    .dataframe tbody tr th:only-of-type {\n",
       "        vertical-align: middle;\n",
       "    }\n",
       "\n",
       "    .dataframe tbody tr th {\n",
       "        vertical-align: top;\n",
       "    }\n",
       "\n",
       "    .dataframe thead th {\n",
       "        text-align: right;\n",
       "    }\n",
       "</style>\n",
       "<table border=\"1\" class=\"dataframe\">\n",
       "  <thead>\n",
       "    <tr style=\"text-align: right;\">\n",
       "      <th></th>\n",
       "      <th>ocean_proximity</th>\n",
       "    </tr>\n",
       "  </thead>\n",
       "  <tbody>\n",
       "    <tr>\n",
       "      <th>17606</th>\n",
       "      <td>&lt;1H OCEAN</td>\n",
       "    </tr>\n",
       "    <tr>\n",
       "      <th>18632</th>\n",
       "      <td>&lt;1H OCEAN</td>\n",
       "    </tr>\n",
       "    <tr>\n",
       "      <th>14650</th>\n",
       "      <td>NEAR OCEAN</td>\n",
       "    </tr>\n",
       "    <tr>\n",
       "      <th>3230</th>\n",
       "      <td>INLAND</td>\n",
       "    </tr>\n",
       "    <tr>\n",
       "      <th>3555</th>\n",
       "      <td>&lt;1H OCEAN</td>\n",
       "    </tr>\n",
       "    <tr>\n",
       "      <th>19480</th>\n",
       "      <td>INLAND</td>\n",
       "    </tr>\n",
       "    <tr>\n",
       "      <th>8879</th>\n",
       "      <td>&lt;1H OCEAN</td>\n",
       "    </tr>\n",
       "    <tr>\n",
       "      <th>13685</th>\n",
       "      <td>INLAND</td>\n",
       "    </tr>\n",
       "    <tr>\n",
       "      <th>4937</th>\n",
       "      <td>&lt;1H OCEAN</td>\n",
       "    </tr>\n",
       "    <tr>\n",
       "      <th>4861</th>\n",
       "      <td>&lt;1H OCEAN</td>\n",
       "    </tr>\n",
       "  </tbody>\n",
       "</table>\n",
       "</div>"
      ],
      "text/plain": [
       "      ocean_proximity\n",
       "17606       <1H OCEAN\n",
       "18632       <1H OCEAN\n",
       "14650      NEAR OCEAN\n",
       "3230           INLAND\n",
       "3555        <1H OCEAN\n",
       "19480          INLAND\n",
       "8879        <1H OCEAN\n",
       "13685          INLAND\n",
       "4937        <1H OCEAN\n",
       "4861        <1H OCEAN"
      ]
     },
     "execution_count": 8,
     "metadata": {},
     "output_type": "execute_result"
    }
   ],
   "source": [
    "from sklearn.impute import SimpleImputer\n",
    "imputer = SimpleImputer(strategy=\"median\")\n",
    "housing_num = housing.drop(\"ocean_proximity\", axis=1)\n",
    "imputer.fit(housing_num)\n",
    "imputer.statistics_\n",
    "housing_num.median().values\n",
    "X = imputer.transform(housing_num)\n",
    "housing_tr = pd.DataFrame(X, columns=housing_num.columns)\n",
    "housing_cat = housing[[\"ocean_proximity\"]]#housing cat, you will be using this in below parts `become train set`\n",
    "housing_cat.head(10)\n",
    "###########################\n",
    "imputer_test = SimpleImputer(strategy=\"median\")\n",
    "housing_num_test = test_set.drop(\"ocean_proximity\", axis=1)\n",
    "imputer.fit(housing_num_test)\n",
    "imputer.statistics_\n",
    "housing_num_test.median().values\n",
    "Y = imputer.transform(housing_num_test)\n",
    "housing_tr_test = pd.DataFrame(Y, columns=housing_num_test.columns)#housing cat_test, you will be using this in below parts or you can make transform it, not sure\n",
    "housing_cat_test = test_set[[\"ocean_proximity\"]]\n",
    "housing_cat.head(10)"
   ]
  },
  {
   "cell_type": "code",
   "execution_count": 9,
   "metadata": {},
   "outputs": [
    {
     "data": {
      "text/plain": [
       "[array(['<1H OCEAN', 'INLAND', 'ISLAND', 'NEAR BAY', 'NEAR OCEAN'],\n",
       "       dtype=object)]"
      ]
     },
     "execution_count": 9,
     "metadata": {},
     "output_type": "execute_result"
    }
   ],
   "source": [
    "from sklearn.preprocessing import OrdinalEncoder\n",
    "ordinal_encoder = OrdinalEncoder()\n",
    "housing_cat_encoded = ordinal_encoder.fit_transform(housing_cat)\n",
    "housing_cat_encoded[:10]\n",
    "ordinal_encoder.categories_\n",
    "##### for the test #####\n",
    "ordinal_encoder_test = OrdinalEncoder()\n",
    "housing_cat_encoded_test = ordinal_encoder_test.fit_transform(housing_cat_test)\n",
    "housing_cat_encoded_test[:10]\n",
    "ordinal_encoder_test.categories_"
   ]
  },
  {
   "cell_type": "code",
   "execution_count": 10,
   "metadata": {},
   "outputs": [
    {
     "data": {
      "text/plain": [
       "array([[1., 0., 0., 0., 0.],\n",
       "       [1., 0., 0., 0., 0.],\n",
       "       [1., 0., 0., 0., 0.],\n",
       "       ...,\n",
       "       [1., 0., 0., 0., 0.],\n",
       "       [0., 1., 0., 0., 0.],\n",
       "       [0., 1., 0., 0., 0.]])"
      ]
     },
     "execution_count": 10,
     "metadata": {},
     "output_type": "execute_result"
    }
   ],
   "source": [
    "from sklearn.preprocessing import OneHotEncoder\n",
    "cat_encoder = OneHotEncoder()\n",
    "housing_cat_1hot = cat_encoder.fit_transform(housing_cat)\n",
    "housing_cat_1hot.toarray()\n",
    "### for the test###\n",
    "cat_encoder_test = OneHotEncoder()\n",
    "housing_cat_1hot_test = cat_encoder_test.fit_transform(housing_cat_test)\n",
    "housing_cat_1hot_test.toarray()"
   ]
  },
  {
   "cell_type": "code",
   "execution_count": 11,
   "metadata": {},
   "outputs": [],
   "source": [
    "from sklearn.base import BaseEstimator, TransformerMixin\n",
    "rooms_ix, bedrooms_ix, population_ix, households_ix = 3, 4, 5, 6\n",
    "\n",
    "class CombinedAttributesAdder(BaseEstimator, TransformerMixin):\n",
    "  def __init__(self, add_bedrooms_per_room = True): # no *args or **kargs\n",
    "    self.add_bedrooms_per_room = add_bedrooms_per_room\n",
    "  \n",
    "  def fit(self, X, y=None):\n",
    "    return self # nothing else to do\n",
    "  \n",
    "  def transform(self, X, y=None):\n",
    "    rooms_per_household = X[:, rooms_ix] / X[:, households_ix]\n",
    "    population_per_household = X[:, population_ix] / X[:, households_ix]\n",
    "    if self.add_bedrooms_per_room:\n",
    "      bedrooms_per_room = X[:, bedrooms_ix] / X[:, rooms_ix]\n",
    "      return np.c_[X, rooms_per_household, population_per_household, bedrooms_per_room]\n",
    "    else:\n",
    "      return np.c_[X, rooms_per_household, population_per_household]\n",
    "\n",
    "attr_adder = CombinedAttributesAdder(add_bedrooms_per_room=False)\n",
    "housing_extra_attribs = attr_adder.transform(housing.values)"
   ]
  },
  {
   "cell_type": "code",
   "execution_count": 12,
   "metadata": {},
   "outputs": [],
   "source": [
    "from sklearn.pipeline import Pipeline\n",
    "from sklearn.preprocessing import StandardScaler\n",
    "\n",
    "num_pipeline = Pipeline([\n",
    "            ('imputer', SimpleImputer(strategy=\"median\")),\n",
    "            ('attribs_adder', CombinedAttributesAdder()),\n",
    "            ('std_scaler', StandardScaler()),\n",
    "        ])\n",
    "\n",
    "housing_num_tr = num_pipeline.fit_transform(housing_num)"
   ]
  },
  {
   "cell_type": "code",
   "execution_count": 13,
   "metadata": {},
   "outputs": [],
   "source": [
    "from sklearn.compose import ColumnTransformer\n",
    "num_attribs = list(housing_num)\n",
    "cat_attribs = [\"ocean_proximity\"]\n",
    "#print(num_attribs)\n",
    "\n",
    "full_pipeline = ColumnTransformer([\n",
    "             (\"num\", num_pipeline, num_attribs),\n",
    "             (\"cat\", OneHotEncoder(), cat_attribs),\n",
    "             #(\"cat\", 'passthrough', cat_attribs),\n",
    "         ],\n",
    "            #remainder = 'drop'\n",
    "            #remainder = 'passthrogh'\n",
    "            #remainder = OneHotEncoder(),\n",
    "         )\n",
    "\n",
    "housing_prepared = full_pipeline.fit_transform(housing)\n"
   ]
  },
  {
   "cell_type": "code",
   "execution_count": 14,
   "metadata": {},
   "outputs": [],
   "source": [
    "from sklearn.linear_model import LinearRegression\n",
    "lin_reg = LinearRegression()\n",
    "lin_reg.fit(housing_prepared, housing_labels)\n",
    "\n",
    "some_data = housing.iloc[:5]\n",
    "some_labels = housing_labels.iloc[:5]\n",
    "some_data_prepared = full_pipeline.transform(some_data)\n",
    "#print(\"Predictions:\", lin_reg.predict(some_data_prepared))\n",
    "#print(\"Labels:\", list(some_labels))"
   ]
  },
  {
   "cell_type": "code",
   "execution_count": 15,
   "metadata": {},
   "outputs": [
    {
     "data": {
      "text/plain": [
       "0.0"
      ]
     },
     "execution_count": 15,
     "metadata": {},
     "output_type": "execute_result"
    }
   ],
   "source": [
    "from sklearn.linear_model import LinearRegression\n",
    "lin_reg = LinearRegression()\n",
    "lin_reg.fit(housing_num_tr, housing_labels)\n",
    "\n",
    "\n",
    "\n",
    "from sklearn.metrics import mean_squared_error\n",
    "housing_predictions = lin_reg.predict(housing_num_tr)\n",
    "lin_mse = mean_squared_error(housing_labels, housing_predictions)\n",
    "lin_rmse = np.sqrt(lin_mse)\n",
    "lin_rmse\n",
    "\n",
    "\n",
    "\n",
    "from sklearn.tree import DecisionTreeRegressor\n",
    "tree_reg = DecisionTreeRegressor()\n",
    "tree_reg.fit(housing_num_tr, housing_labels)\n",
    "housing_predictions = tree_reg.predict(housing_num_tr)\n",
    "tree_mse = mean_squared_error(housing_labels, housing_predictions)\n",
    "tree_rmse = np.sqrt(tree_mse)\n",
    "tree_rmse"
   ]
  },
  {
   "cell_type": "code",
   "execution_count": 16,
   "metadata": {
    "scrolled": false
   },
   "outputs": [
    {
     "name": "stdout",
     "output_type": "stream",
     "text": [
      "Scores: [71441.82119163 74756.9238692  73624.31238055 72026.80373983\n",
      " 76254.84957057 77061.27577946 72226.82628222 71617.00367524\n",
      " 73062.58357738 74292.65267407]\n",
      "Mean: 73636.50527401434\n",
      "Standard deviation: 1845.901966732151\n",
      "Scores: [66514.91135422 67720.57662846 68611.40553625 74947.76053801\n",
      " 68596.87728798 71265.55168861 65032.77795338 68997.86983126\n",
      " 71848.6609317  67936.74849588]\n",
      "Mean: 69147.31402457698\n",
      "Standard deviation: 2709.2784489936444\n"
     ]
    }
   ],
   "source": [
    "from sklearn.model_selection import cross_val_score\n",
    "scores = cross_val_score(tree_reg, housing_num_tr, housing_labels,\n",
    "                             scoring=\"neg_mean_squared_error\", cv=10)\n",
    "tree_rmse_scores = np.sqrt(-scores)\n",
    "\n",
    "def display_scores(scores):\n",
    "  print(\"Scores:\", scores)\n",
    "  print(\"Mean:\", scores.mean())\n",
    "  print(\"Standard deviation:\", scores.std())\n",
    "\n",
    "display_scores(tree_rmse_scores)\n",
    "lin_scores = cross_val_score(lin_reg, housing_num_tr, housing_labels, scoring=\"neg_mean_squared_error\", cv=10)\n",
    "lin_rmse_scores = np.sqrt(-lin_scores)\n",
    "display_scores(lin_rmse_scores)"
   ]
  },
  {
   "cell_type": "code",
   "execution_count": 17,
   "metadata": {},
   "outputs": [
    {
     "name": "stdout",
     "output_type": "stream",
     "text": [
      "19085.268258711967\n",
      "Scores: [50213.12396754 48257.93163142 50108.69710004 53378.40382785\n",
      " 50164.8693983  53849.72349948 49245.98419952 49416.84747145\n",
      " 54149.0741697  52503.6445416 ]\n",
      "Mean: 51128.82998069128\n",
      "Standard deviation: 2024.9022779671432\n"
     ]
    }
   ],
   "source": [
    "from sklearn.ensemble import RandomForestRegressor   #this is new and fit\n",
    "forest_reg = RandomForestRegressor()\n",
    "forest_reg.fit(housing_num_tr, housing_labels)\n",
    "housing_predictions = forest_reg.predict(housing_num_tr)\n",
    "forest_rmse = mean_squared_error(housing_labels, housing_predictions, squared=False)\n",
    "forest_scores = cross_val_score(forest_reg, housing_num_tr, housing_labels, scoring=\"neg_mean_squared_error\", cv=10)\n",
    "forest_rmse_scores = np.sqrt(-forest_scores)\n",
    "print(forest_rmse)\n",
    "display_scores(forest_rmse_scores)"
   ]
  },
  {
   "cell_type": "code",
   "execution_count": null,
   "metadata": {},
   "outputs": [],
   "source": []
  }
 ],
 "metadata": {
  "kernelspec": {
   "display_name": "Python 3",
   "language": "python",
   "name": "python3"
  },
  "language_info": {
   "codemirror_mode": {
    "name": "ipython",
    "version": 3
   },
   "file_extension": ".py",
   "mimetype": "text/x-python",
   "name": "python",
   "nbconvert_exporter": "python",
   "pygments_lexer": "ipython3",
   "version": "3.8.5"
  }
 },
 "nbformat": 4,
 "nbformat_minor": 4
}
